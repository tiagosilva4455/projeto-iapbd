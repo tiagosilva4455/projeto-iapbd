{
 "cells": [
  {
   "attachments": {},
   "cell_type": "markdown",
   "metadata": {},
   "source": [
    "TRABALHO BD"
   ]
  },
  {
   "attachments": {},
   "cell_type": "markdown",
   "metadata": {},
   "source": [
    "importar um registo e guardar uma string locus\n",
    "Ir buscar o ficheiro GenBank pelo webscrapping\n",
    "\n",
    "A partir daqui ir buscar locus, id, definition, accession... pelas expressões regulares\n",
    "\n",
    "Colocar as infos na BD"
   ]
  },
  {
   "attachments": {},
   "cell_type": "markdown",
   "metadata": {},
   "source": [
    "Escolha de sequências\n",
    "-> escolhemos 1 vírus (HIV) e uma bactéria (H. pylori)\n",
    "-> motivos das escolhas: sequências pequenas (teoricamente) e mais fácil de analisar"
   ]
  },
  {
   "attachments": {},
   "cell_type": "markdown",
   "metadata": {},
   "source": [
    "WEBSCRAPPING"
   ]
  },
  {
   "cell_type": "code",
   "execution_count": 2,
   "metadata": {},
   "outputs": [
    {
     "data": {
      "text/plain": [
       "['https://www.ncbi.nlm.nih.gov/gene/?term=yeast']"
      ]
     },
     "execution_count": 2,
     "metadata": {},
     "output_type": "execute_result"
    }
   ],
   "source": [
    "import time\n",
    "query = input(\"Defina o que pretende pesquisar [bacteria/yeast/...]: \")\n",
    "def url_get(item):\n",
    "    url_list = []\n",
    "    url = \"https://www.ncbi.nlm.nih.gov/gene/?term={}\".format(query)\n",
    "    url_list.append(url)\n",
    "    return url_list\n",
    "    \n",
    "url_get(0)"
   ]
  },
  {
   "cell_type": "code",
   "execution_count": 3,
   "metadata": {},
   "outputs": [],
   "source": [
    "import requests, sys, json\n",
    "content = []\n",
    "for url in url_get(0):\n",
    "    r = requests.get(url)\n",
    "    content.append(r.content)\n",
    "# print(content)"
   ]
  },
  {
   "cell_type": "code",
   "execution_count": 4,
   "metadata": {},
   "outputs": [],
   "source": [
    "import requests\n",
    "from bs4 import BeautifulSoup\n",
    "\n",
    "# Parsing the HTML\n",
    "for c in content:\n",
    "    soup = BeautifulSoup(r.content, 'html.parser')\n",
    "    res = soup.get_text()\n",
    "# print(res)"
   ]
  },
  {
   "cell_type": "code",
   "execution_count": 5,
   "metadata": {},
   "outputs": [
    {
     "data": {
      "text/plain": [
       "['424122',\n",
       " '29789',\n",
       " '26245415',\n",
       " '20918',\n",
       " '24563533',\n",
       " '39874648',\n",
       " '4839978',\n",
       " '42049400',\n",
       " '42048491',\n",
       " '36516274',\n",
       " '35606568',\n",
       " '35598500',\n",
       " '24564880',\n",
       " '24564814',\n",
       " '13446414',\n",
       " '5477914',\n",
       " '65082716',\n",
       " '109860985',\n",
       " '8047674',\n",
       " '4292']"
      ]
     },
     "execution_count": 5,
     "metadata": {},
     "output_type": "execute_result"
    }
   ],
   "source": [
    "import re\n",
    "existe = re.findall(r'ID:\\s+\\d*(?=\\D)', res, re.DOTALL)\n",
    "id_genes = ','.join(existe)\n",
    "id_g = id_genes.replace('ID: ', '')\n",
    "id_gene = id_g.split(',')\n",
    "id_gene\n"
   ]
  },
  {
   "cell_type": "code",
   "execution_count": 6,
   "metadata": {},
   "outputs": [
    {
     "name": "stdout",
     "output_type": "stream",
     "text": [
      "5\n",
      "['424122', '29789', '26245415', '20918', '24563533']\n"
     ]
    }
   ],
   "source": [
    "number_of_genes = int(input(\"Número de genes a obter (máx: 20): \"))\n",
    "print(number_of_genes)\n",
    "genes = id_gene[0:number_of_genes]\n",
    "print(genes)"
   ]
  },
  {
   "cell_type": "code",
   "execution_count": null,
   "metadata": {},
   "outputs": [],
   "source": [
    "#BUSCAR LINKS DOS GENES"
   ]
  },
  {
   "cell_type": "code",
   "execution_count": 7,
   "metadata": {},
   "outputs": [
    {
     "data": {
      "text/plain": [
       "['https://www.ncbi.nlm.nih.gov/nuccore/424122',\n",
       " 'https://www.ncbi.nlm.nih.gov/nuccore/29789',\n",
       " 'https://www.ncbi.nlm.nih.gov/nuccore/26245415',\n",
       " 'https://www.ncbi.nlm.nih.gov/nuccore/20918',\n",
       " 'https://www.ncbi.nlm.nih.gov/nuccore/24563533']"
      ]
     },
     "execution_count": 7,
     "metadata": {},
     "output_type": "execute_result"
    }
   ],
   "source": [
    "import time\n",
    "def url_get_id(item):\n",
    "    url_id = []\n",
    "    for id in genes:\n",
    "        url = f\"https://www.ncbi.nlm.nih.gov/nuccore/{id}\"\n",
    "        url_id.append(url)\n",
    "    return url_id\n",
    "url_get_id(genes)"
   ]
  },
  {
   "cell_type": "code",
   "execution_count": 8,
   "metadata": {},
   "outputs": [],
   "source": [
    "import requests\n",
    "id_content = []\n",
    "for url in url_get_id(genes):\n",
    "    r = requests.get(url)\n",
    "    id_content.append(r.content)\n",
    "# id_content"
   ]
  },
  {
   "cell_type": "code",
   "execution_count": 93,
   "metadata": {},
   "outputs": [
    {
     "name": "stdout",
     "output_type": "stream",
     "text": [
      "LOCUS       CSU02075                1780 bp    rRNA    linear   INV 28-JUN-1994\n",
      "DEFINITION  Chlorarachnion sp. 1 CCMP 1408 clones pF58 and pF59 18S rRNA small\n",
      "            subunit.\n",
      "ACCESSION   U02075\n",
      "VERSION     U02075\n",
      "KEYWORDS    .\n",
      "SOURCE      Chlorarachnion sp. 1\n",
      "  ORGANISM  Chlorarachnion sp. 1\n",
      "            Eukaryotae; mitochondrial eukaryotes; Chlorarachniophyceae;\n",
      "            Chlorarachnion.\n",
      "REFERENCE   1  (bases 1 to 1780)\n",
      "  AUTHORS   McFadden,G.I., Gilson,P.R., Hofmann,C.J., Adcock,G.J. and\n",
      "            Maier,U.G.\n",
      "  TITLE     Evidence that an amoeba acquired a chloroplast by retaining part of\n",
      "            an engulfed eukaryotic alga\n",
      "  JOURNAL   Proc. Natl. Acad. Sci. U.S.A. 91, 3690-3694 (1994)\n",
      "  MEDLINE   94224807\n",
      "REFERENCE   2  (bases 1 to 1780)\n",
      "  AUTHORS   McFadden,G.I.\n",
      "  TITLE     Direct Submission\n",
      "  JOURNAL   Submitted (15-NOV-1993) Geoffrey I. McFadden, School of Botany,\n",
      "            University of Melbourne, Parkville, VIC 3052, Australia\n",
      "COMMENT     [WARNING] On Jan 20, 1999 this sequence was replaced by U02075.1.\n",
      "FEATURES             Location/Qualifiers\n",
      "     source          1..1780\n",
      "                     /organism=\"Chlorarachnion sp. 1\"\n",
      "                     /mol_type=\"rRNA\"\n",
      "                     /strain=\"CCMP 1408\"\n",
      "                     /db_xref=\"taxon:29200\"\n",
      "                     /clone=\"pF58 (Nu), pF59 (Nu)\"\n",
      "     rRNA            1..1780\n",
      "                     /product=\"18S rRNA small subunit\"\n",
      "ORIGIN      \n",
      "        1 ggatcctgcc agtagtcata tgcttgtctc aaagactaag ccatgcatgt ctaagtataa\n",
      "       61 acaactttgt actgtgaaac tgcagatggc tcattaaatc agaaataatt tctttgatgg\n",
      "      121 tgaaaatcta cacggatacc cgtagtaatt ctagagctaa tacgtgcgta aactccattg\n",
      "      181 tgaggtattt attagatccg aaccagcccc ctcggggtat tttggtgaat catgataact\n",
      "      241 gttcgaatcg ccaggctctg ccaggcgata gttcattcaa atttctgccc tatcagctat\n",
      "      301 tgacggtagt gtagtggact accgtggccg taacgggtga cggagaatta gggttcgatt\n",
      "      361 ccggagaggg agcctgagaa acggctacca catccaagga aggcagcagg cgcgcaaatt\n",
      "      421 acccaatccc gacacgggga ggtagtgaca agaaatatcg tgactgtgcc ctttgtggca\n",
      "      481 gagtcttcga aatgagcaat acgtaaatgc ctttgcgagt atccattgga gggcaagtct\n",
      "      541 ggtgccagca gccgcggtaa ttccagctcc aatagcgtat attaatgttg ttgcagttaa\n",
      "      601 aaagctcgta gttggatatc tggcctttgc acggacggcc cgccttcggg ttgagtgctg\n",
      "      661 gaagtgcagg tctatattct ggttggcgtg ctttcccttt attgtggcga gtatcgcgat\n",
      "      721 ccggatcgtt tactttgaag aaattcgagt gttcaaagca ggcttacgcc gtgaagattg\n",
      "      781 cagcatggaa taatgacata ggactatcgt gttctatttt gttggttctg ggaccgtagt\n",
      "      841 aatgattgat agggacagtt gggggtgctg ctattccgcg gncagaggtg aaattctcag\n",
      "      901 attcccggaa gagcaactta tgcgaaagca ttcaccaagg atgtcttctt taatcaagaa\n",
      "      961 cgaaagtagg gggatcgaag acgatcagat accgtcgtag tctctaccat aaactatgcc\n",
      "     1021 gactagggat tggtggacgt tgttttatcc gactccatca gcaccttatg agaaatcaaa\n",
      "     1081 gtctttgggt tccgggggga gtatggtcgc aaggctgaaa cttaaaggaa ttgacggaag\n",
      "     1141 gacaccacca gaagtggaac ttgcggctta atttgactca acacgggaaa actttccagg\n",
      "     1201 tccagacata gtaaggattg acagattgaa gatctttctt gattctatgg gtggtggtgc\n",
      "     1261 atggccgttc ttagttggtg gagtgatttg tctggttaat tccgttaacg aacgagacct\n",
      "     1321 cgacctgcta aataggttca gtatcgatgc gtcgatgctt ggagcttctt agagggacta\n",
      "     1381 tcggatccaa accggtggaa gtgcgaggca ataacaggtc tgtgatgccc ttagatgttc\n",
      "     1441 tgggccgcac gcgtgttaca ctgacgcatt catcaagcgc cacaccttgg ctcgagaggc\n",
      "     1501 ctcggtaatc ttgaaagtcc gtcgtgttag ggatagatta ttgtaattat tagtcttgaa\n",
      "     1561 cgaggaattt ctagtaaacg cgagtcatca actcgcattg attacgtccc tgtcctttat\n",
      "     1621 acacaccgcc cgtcgctact accgattgaa tcatttggtg aggctcacgg actgtcgtgc\n",
      "     1681 atccttcctc gagttggttg tgcttcttgg gaagtgatac aaacctgatg atttagagga\n",
      "     1741 agtaaaagtc gtaacaaggt ttccgtaggt gaacctgcag\n",
      "//\n",
      "\n",
      "\n",
      "LOCUS       CSU02075                1780 bp    rRNA    linear   INV 28-JUN-1994\n",
      "DEFINITION  Chlorarachnion sp. 1 CCMP 1408 clones pF58 and pF59 18S rRNA small\n",
      "            subunit.\n",
      "ACCESSION   U02075\n",
      "VERSION     U02075\n",
      "KEYWORDS    .\n",
      "SOURCE      Chlorarachnion sp. 1\n",
      "  ORGANISM  Chlorarachnion sp. 1\n",
      "            Eukaryotae; mitochondrial eukaryotes; Chlorarachniophyceae;\n",
      "            Chlorarachnion.\n",
      "REFERENCE   1  (bases 1 to 1780)\n",
      "  AUTHORS   McFadden,G.I., Gilson,P.R., Hofmann,C.J., Adcock,G.J. and\n",
      "            Maier,U.G.\n",
      "  TITLE     Evidence that an amoeba acquired a chloroplast by retaining part of\n",
      "            an engulfed eukaryotic alga\n",
      "  JOURNAL   Proc. Natl. Acad. Sci. U.S.A. 91, 3690-3694 (1994)\n",
      "  MEDLINE   94224807\n",
      "REFERENCE   2  (bases 1 to 1780)\n",
      "  AUTHORS   McFadden,G.I.\n",
      "  TITLE     Direct Submission\n",
      "  JOURNAL   Submitted (15-NOV-1993) Geoffrey I. McFadden, School of Botany,\n",
      "            University of Melbourne, Parkville, VIC 3052, Australia\n",
      "COMMENT     [WARNING] On Jan 20, 1999 this sequence was replaced by U02075.1.\n",
      "FEATURES             Location/Qualifiers\n",
      "     source          1..1780\n",
      "                     /organism=\"Chlorarachnion sp. 1\"\n",
      "                     /mol_type=\"rRNA\"\n",
      "                     /strain=\"CCMP 1408\"\n",
      "                     /db_xref=\"taxon:29200\"\n",
      "                     /clone=\"pF58 (Nu), pF59 (Nu)\"\n",
      "     rRNA            1..1780\n",
      "                     /product=\"18S rRNA small subunit\"\n",
      "ORIGIN      \n",
      "        1 ggatcctgcc agtagtcata tgcttgtctc aaagactaag ccatgcatgt ctaagtataa\n",
      "       61 acaactttgt actgtgaaac tgcagatggc tcattaaatc agaaataatt tctttgatgg\n",
      "      121 tgaaaatcta cacggatacc cgtagtaatt ctagagctaa tacgtgcgta aactccattg\n",
      "      181 tgaggtattt attagatccg aaccagcccc ctcggggtat tttggtgaat catgataact\n",
      "      241 gttcgaatcg ccaggctctg ccaggcgata gttcattcaa atttctgccc tatcagctat\n",
      "      301 tgacggtagt gtagtggact accgtggccg taacgggtga cggagaatta gggttcgatt\n",
      "      361 ccggagaggg agcctgagaa acggctacca catccaagga aggcagcagg cgcgcaaatt\n",
      "      421 acccaatccc gacacgggga ggtagtgaca agaaatatcg tgactgtgcc ctttgtggca\n",
      "      481 gagtcttcga aatgagcaat acgtaaatgc ctttgcgagt atccattgga gggcaagtct\n",
      "      541 ggtgccagca gccgcggtaa ttccagctcc aatagcgtat attaatgttg ttgcagttaa\n",
      "      601 aaagctcgta gttggatatc tggcctttgc acggacggcc cgccttcggg ttgagtgctg\n",
      "      661 gaagtgcagg tctatattct ggttggcgtg ctttcccttt attgtggcga gtatcgcgat\n",
      "      721 ccggatcgtt tactttgaag aaattcgagt gttcaaagca ggcttacgcc gtgaagattg\n",
      "      781 cagcatggaa taatgacata ggactatcgt gttctatttt gttggttctg ggaccgtagt\n",
      "      841 aatgattgat agggacagtt gggggtgctg ctattccgcg gncagaggtg aaattctcag\n",
      "      901 attcccggaa gagcaactta tgcgaaagca ttcaccaagg atgtcttctt taatcaagaa\n",
      "      961 cgaaagtagg gggatcgaag acgatcagat accgtcgtag tctctaccat aaactatgcc\n",
      "     1021 gactagggat tggtggacgt tgttttatcc gactccatca gcaccttatg agaaatcaaa\n",
      "     1081 gtctttgggt tccgggggga gtatggtcgc aaggctgaaa cttaaaggaa ttgacggaag\n",
      "     1141 gacaccacca gaagtggaac ttgcggctta atttgactca acacgggaaa actttccagg\n",
      "     1201 tccagacata gtaaggattg acagattgaa gatctttctt gattctatgg gtggtggtgc\n",
      "     1261 atggccgttc ttagttggtg gagtgatttg tctggttaat tccgttaacg aacgagacct\n",
      "     1321 cgacctgcta aataggttca gtatcgatgc gtcgatgctt ggagcttctt agagggacta\n",
      "     1381 tcggatccaa accggtggaa gtgcgaggca ataacaggtc tgtgatgccc ttagatgttc\n",
      "     1441 tgggccgcac gcgtgttaca ctgacgcatt catcaagcgc cacaccttgg ctcgagaggc\n",
      "     1501 ctcggtaatc ttgaaagtcc gtcgtgttag ggatagatta ttgtaattat tagtcttgaa\n",
      "     1561 cgaggaattt ctagtaaacg cgagtcatca actcgcattg attacgtccc tgtcctttat\n",
      "     1621 acacaccgcc cgtcgctact accgattgaa tcatttggtg aggctcacgg actgtcgtgc\n",
      "     1681 atccttcctc gagttggttg tgcttcttgg gaagtgatac aaacctgatg atttagagga\n",
      "     1741 agtaaaagtc gtaacaaggt ttccgtaggt gaacctgcag\n",
      "//\n",
      "\n",
      "LOCUS       HSCD2G5                  807 bp    DNA     linear   PRI 30-SEP-1993\n",
      "DEFINITION  Human CD2 gene exon 5 and 3'-flanking region.\n",
      "ACCESSION   X07874\n",
      "VERSION     X07874.2\n",
      "KEYWORDS    CD2 antigen; glycoprotein; surface antigen; surface glycoprotein.\n",
      "SOURCE      Unknown.\n",
      "  ORGANISM  Unknown.\n",
      "            Unclassified.\n",
      "REFERENCE   1  (bases 1 to 807)\n",
      "  AUTHORS   Lang,G., Wotton,D., Owen,M.J., Sewell,W.A., Brown,M.H., Mason,D.Y.,\n",
      "            Crumpton,M.J. and Kioussis,D.\n",
      "  TITLE     The structure of the human CD2 gene and its expression in\n",
      "            transgenic mice\n",
      "  JOURNAL   EMBO J. 7 (6), 1675-1682 (1988)\n",
      "  MEDLINE   89005055\n",
      "COMMENT     [WARNING] On Feb 18, 1996 this sequence was replaced by X07874.1.\n",
      "            see x07871 - x07874\n",
      "            Data kindly reviewed (12-SEP-1988) by CRUMPTON J.\n",
      "FEATURES             Location/Qualifiers\n",
      "     source          1..807\n",
      "                     /organism=\"unknown\"\n",
      "                     /mol_type=\"unassigned DNA\"\n",
      "     source          1..807\n",
      "                     /clone=\"CD2-cos1, CD2-cos4, CD2-cos7 and CD2-cos10\"\n",
      "                     /organism=\"Homo sapiens\"\n",
      "     precursor_RNA   <1..>339\n",
      "                     /note=\"primary transcript\"\n",
      "     intron          <1..22\n",
      "                     /note=\"Intron IV (ca. 3.9 kb)\"\n",
      "     mRNA            23..>339\n",
      "                     /note=\"Exon 5\"\n",
      "     misc_feature    770..775\n",
      "                     /note=\"pot. polyA signal\"\n",
      "ORIGIN      \n",
      "        1 tattgaggtt ttgttgttgc agatgaggag ctggagacaa gagcccacag agtagctact\n",
      "       61 gaagaaaggg gccggaagcc ccaccaaatt ccagcttcaa cccctcagaa tccagcaact\n",
      "      121 tcccaacatc ctcctccacc acctggtcat cgttcccagg cacctagtca tcgtcccccg\n",
      "      181 cctcctggac accgtgttca gcaccagcct cagaagaggc ctcctgctcc gtcgggcaca\n",
      "      241 caagttcacc agcagaaagg cccgcccctc cccagacctc gagttcagcc aaaacctccc\n",
      "      301 catggggcag cagaaaactc attgtcccct tcctctaatt aaaaaagata gaaactgtct\n",
      "      361 ttttcaataa aaagcactgt ggatttctgc cctcctgatg tgcatatccg tacttccatg\n",
      "      421 aggtgttttc tgtgtgcaga acattgtcac ctcctgaggc tgtgggccac agccacctct\n",
      "      481 gcatcttcga actcagccat gtggtcaaca tctggagttt ttggtctcct cagagagctc\n",
      "      541 catcacacca gtaaggagaa gcaatataag tgtgattgca agaatggtag aggaccgagc\n",
      "      601 acagaaatct tagagatttc ttgtcccctc tcaggtcatg tgtagatgcg ataaatcaag\n",
      "      661 tgattggtgt gcctgggtct cactacaagc agcctatctg cttaagagac tctggagttt\n",
      "      721 cttatgtgcc ctggtggaca cttgcccacc atcctgtgag taaaagtgaa ataaaagctt\n",
      "      781 tgactagacc cgtgtctgct cattgtg\n",
      "//\n",
      "\n",
      "\n",
      "LOCUS       CSU02075                1780 bp    rRNA    linear   INV 28-JUN-1994\n",
      "DEFINITION  Chlorarachnion sp. 1 CCMP 1408 clones pF58 and pF59 18S rRNA small\n",
      "            subunit.\n",
      "ACCESSION   U02075\n",
      "VERSION     U02075\n",
      "KEYWORDS    .\n",
      "SOURCE      Chlorarachnion sp. 1\n",
      "  ORGANISM  Chlorarachnion sp. 1\n",
      "            Eukaryotae; mitochondrial eukaryotes; Chlorarachniophyceae;\n",
      "            Chlorarachnion.\n",
      "REFERENCE   1  (bases 1 to 1780)\n",
      "  AUTHORS   McFadden,G.I., Gilson,P.R., Hofmann,C.J., Adcock,G.J. and\n",
      "            Maier,U.G.\n",
      "  TITLE     Evidence that an amoeba acquired a chloroplast by retaining part of\n",
      "            an engulfed eukaryotic alga\n",
      "  JOURNAL   Proc. Natl. Acad. Sci. U.S.A. 91, 3690-3694 (1994)\n",
      "  MEDLINE   94224807\n",
      "REFERENCE   2  (bases 1 to 1780)\n",
      "  AUTHORS   McFadden,G.I.\n",
      "  TITLE     Direct Submission\n",
      "  JOURNAL   Submitted (15-NOV-1993) Geoffrey I. McFadden, School of Botany,\n",
      "            University of Melbourne, Parkville, VIC 3052, Australia\n",
      "COMMENT     [WARNING] On Jan 20, 1999 this sequence was replaced by U02075.1.\n",
      "FEATURES             Location/Qualifiers\n",
      "     source          1..1780\n",
      "                     /organism=\"Chlorarachnion sp. 1\"\n",
      "                     /mol_type=\"rRNA\"\n",
      "                     /strain=\"CCMP 1408\"\n",
      "                     /db_xref=\"taxon:29200\"\n",
      "                     /clone=\"pF58 (Nu), pF59 (Nu)\"\n",
      "     rRNA            1..1780\n",
      "                     /product=\"18S rRNA small subunit\"\n",
      "ORIGIN      \n",
      "        1 ggatcctgcc agtagtcata tgcttgtctc aaagactaag ccatgcatgt ctaagtataa\n",
      "       61 acaactttgt actgtgaaac tgcagatggc tcattaaatc agaaataatt tctttgatgg\n",
      "      121 tgaaaatcta cacggatacc cgtagtaatt ctagagctaa tacgtgcgta aactccattg\n",
      "      181 tgaggtattt attagatccg aaccagcccc ctcggggtat tttggtgaat catgataact\n",
      "      241 gttcgaatcg ccaggctctg ccaggcgata gttcattcaa atttctgccc tatcagctat\n",
      "      301 tgacggtagt gtagtggact accgtggccg taacgggtga cggagaatta gggttcgatt\n",
      "      361 ccggagaggg agcctgagaa acggctacca catccaagga aggcagcagg cgcgcaaatt\n",
      "      421 acccaatccc gacacgggga ggtagtgaca agaaatatcg tgactgtgcc ctttgtggca\n",
      "      481 gagtcttcga aatgagcaat acgtaaatgc ctttgcgagt atccattgga gggcaagtct\n",
      "      541 ggtgccagca gccgcggtaa ttccagctcc aatagcgtat attaatgttg ttgcagttaa\n",
      "      601 aaagctcgta gttggatatc tggcctttgc acggacggcc cgccttcggg ttgagtgctg\n",
      "      661 gaagtgcagg tctatattct ggttggcgtg ctttcccttt attgtggcga gtatcgcgat\n",
      "      721 ccggatcgtt tactttgaag aaattcgagt gttcaaagca ggcttacgcc gtgaagattg\n",
      "      781 cagcatggaa taatgacata ggactatcgt gttctatttt gttggttctg ggaccgtagt\n",
      "      841 aatgattgat agggacagtt gggggtgctg ctattccgcg gncagaggtg aaattctcag\n",
      "      901 attcccggaa gagcaactta tgcgaaagca ttcaccaagg atgtcttctt taatcaagaa\n",
      "      961 cgaaagtagg gggatcgaag acgatcagat accgtcgtag tctctaccat aaactatgcc\n",
      "     1021 gactagggat tggtggacgt tgttttatcc gactccatca gcaccttatg agaaatcaaa\n",
      "     1081 gtctttgggt tccgggggga gtatggtcgc aaggctgaaa cttaaaggaa ttgacggaag\n",
      "     1141 gacaccacca gaagtggaac ttgcggctta atttgactca acacgggaaa actttccagg\n",
      "     1201 tccagacata gtaaggattg acagattgaa gatctttctt gattctatgg gtggtggtgc\n",
      "     1261 atggccgttc ttagttggtg gagtgatttg tctggttaat tccgttaacg aacgagacct\n",
      "     1321 cgacctgcta aataggttca gtatcgatgc gtcgatgctt ggagcttctt agagggacta\n",
      "     1381 tcggatccaa accggtggaa gtgcgaggca ataacaggtc tgtgatgccc ttagatgttc\n",
      "     1441 tgggccgcac gcgtgttaca ctgacgcatt catcaagcgc cacaccttgg ctcgagaggc\n",
      "     1501 ctcggtaatc ttgaaagtcc gtcgtgttag ggatagatta ttgtaattat tagtcttgaa\n",
      "     1561 cgaggaattt ctagtaaacg cgagtcatca actcgcattg attacgtccc tgtcctttat\n",
      "     1621 acacaccgcc cgtcgctact accgattgaa tcatttggtg aggctcacgg actgtcgtgc\n",
      "     1681 atccttcctc gagttggttg tgcttcttgg gaagtgatac aaacctgatg atttagagga\n",
      "     1741 agtaaaagtc gtaacaaggt ttccgtaggt gaacctgcag\n",
      "//\n",
      "\n",
      "LOCUS       HSCD2G5                  807 bp    DNA     linear   PRI 30-SEP-1993\n",
      "DEFINITION  Human CD2 gene exon 5 and 3'-flanking region.\n",
      "ACCESSION   X07874\n",
      "VERSION     X07874.2\n",
      "KEYWORDS    CD2 antigen; glycoprotein; surface antigen; surface glycoprotein.\n",
      "SOURCE      Unknown.\n",
      "  ORGANISM  Unknown.\n",
      "            Unclassified.\n",
      "REFERENCE   1  (bases 1 to 807)\n",
      "  AUTHORS   Lang,G., Wotton,D., Owen,M.J., Sewell,W.A., Brown,M.H., Mason,D.Y.,\n",
      "            Crumpton,M.J. and Kioussis,D.\n",
      "  TITLE     The structure of the human CD2 gene and its expression in\n",
      "            transgenic mice\n",
      "  JOURNAL   EMBO J. 7 (6), 1675-1682 (1988)\n",
      "  MEDLINE   89005055\n",
      "COMMENT     [WARNING] On Feb 18, 1996 this sequence was replaced by X07874.1.\n",
      "            see x07871 - x07874\n",
      "            Data kindly reviewed (12-SEP-1988) by CRUMPTON J.\n",
      "FEATURES             Location/Qualifiers\n",
      "     source          1..807\n",
      "                     /organism=\"unknown\"\n",
      "                     /mol_type=\"unassigned DNA\"\n",
      "     source          1..807\n",
      "                     /clone=\"CD2-cos1, CD2-cos4, CD2-cos7 and CD2-cos10\"\n",
      "                     /organism=\"Homo sapiens\"\n",
      "     precursor_RNA   <1..>339\n",
      "                     /note=\"primary transcript\"\n",
      "     intron          <1..22\n",
      "                     /note=\"Intron IV (ca. 3.9 kb)\"\n",
      "     mRNA            23..>339\n",
      "                     /note=\"Exon 5\"\n",
      "     misc_feature    770..775\n",
      "                     /note=\"pot. polyA signal\"\n",
      "ORIGIN      \n",
      "        1 tattgaggtt ttgttgttgc agatgaggag ctggagacaa gagcccacag agtagctact\n",
      "       61 gaagaaaggg gccggaagcc ccaccaaatt ccagcttcaa cccctcagaa tccagcaact\n",
      "      121 tcccaacatc ctcctccacc acctggtcat cgttcccagg cacctagtca tcgtcccccg\n",
      "      181 cctcctggac accgtgttca gcaccagcct cagaagaggc ctcctgctcc gtcgggcaca\n",
      "      241 caagttcacc agcagaaagg cccgcccctc cccagacctc gagttcagcc aaaacctccc\n",
      "      301 catggggcag cagaaaactc attgtcccct tcctctaatt aaaaaagata gaaactgtct\n",
      "      361 ttttcaataa aaagcactgt ggatttctgc cctcctgatg tgcatatccg tacttccatg\n",
      "      421 aggtgttttc tgtgtgcaga acattgtcac ctcctgaggc tgtgggccac agccacctct\n",
      "      481 gcatcttcga actcagccat gtggtcaaca tctggagttt ttggtctcct cagagagctc\n",
      "      541 catcacacca gtaaggagaa gcaatataag tgtgattgca agaatggtag aggaccgagc\n",
      "      601 acagaaatct tagagatttc ttgtcccctc tcaggtcatg tgtagatgcg ataaatcaag\n",
      "      661 tgattggtgt gcctgggtct cactacaagc agcctatctg cttaagagac tctggagttt\n",
      "      721 cttatgtgcc ctggtggaca cttgcccacc atcctgtgag taaaagtgaa ataaaagctt\n",
      "      781 tgactagacc cgtgtctgct cattgtg\n",
      "//\n",
      "\n",
      "LOCUS       AY158036                 502 bp    DNA     linear   BCT 08-DEC-2002\n",
      "DEFINITION  Gamma proteobacterium UQ1 16S ribosomal RNA gene, partial sequence.\n",
      "ACCESSION   AY158036\n",
      "VERSION     AY158036.1\n",
      "KEYWORDS    .\n",
      "SOURCE      gamma proteobacterium UQ1\n",
      "  ORGANISM  gamma proteobacterium UQ1\n",
      "            Bacteria; Proteobacteria; Gammaproteobacteria.\n",
      "REFERENCE   1  (bases 1 to 502)\n",
      "  AUTHORS   Benito,J.M., Lovrich,G.A., Abate,C.M. and Sineriz,F.\n",
      "  TITLE     Microbial populations from the subantarctic marine ecosystem\n",
      "  JOURNAL   Unpublished\n",
      "REFERENCE   2  (bases 1 to 502)\n",
      "  AUTHORS   Benito,J.M., Lovrich,G.A., Abate,C.M. and Sineriz,F.\n",
      "  TITLE     Direct Submission\n",
      "  JOURNAL   Submitted (02-OCT-2002) Molecular Biology, PROIMI, Av. Belgrano y\n",
      "            Pje. Caseros, S.M. de Tucuman, Tucuman 4000, Argentina\n",
      "FEATURES             Location/Qualifiers\n",
      "     source          1..502\n",
      "                     /organism=\"gamma proteobacterium UQ1\"\n",
      "                     /mol_type=\"genomic DNA\"\n",
      "                     /strain=\"UQ1\"\n",
      "                     /db_xref=\"taxon:215371\"\n",
      "     rRNA            <1..>502\n",
      "                     /product=\"16S ribosomal RNA\"\n",
      "ORIGIN      \n",
      "        1 agagtttgat cctggctcag attgaacgct ggcggcaggc ttaacacatg caagtcgagc\n",
      "       61 ggtaacaggg gagcttgctc ctgctgacga gcggcggacg ggtgagtaac gcgtaggaat\n",
      "      121 ctgcctagta gagggggaca acatgtggaa acgcatgcta ataccgcata cgccctaagg\n",
      "      181 gggaaaggag gggactcttc ggagccttcc gctattagat gagcctgcgt gagattagct\n",
      "      241 agttggtagg gtaaaggcct accaaggcga cgatctctaa ctggtctgag aggatgacca\n",
      "      301 gtcacactgg gactgagaca cggcccagac tcctacggga ggcagcagtg gggaatattg\n",
      "      361 gacaatgggc gcaagcctga tccagccatg ccgcgtgtgt gaagaaggcc ttagggttgt\n",
      "      421 aaagcacttt caggggtgag gaagggtaat ggattaatac ttcattactt tgacgttagc\n",
      "      481 cccagaagaa gcaccggcta ac\n",
      "//\n",
      "\n",
      "\n",
      "LOCUS       CSU02075                1780 bp    rRNA    linear   INV 28-JUN-1994\n",
      "DEFINITION  Chlorarachnion sp. 1 CCMP 1408 clones pF58 and pF59 18S rRNA small\n",
      "            subunit.\n",
      "ACCESSION   U02075\n",
      "VERSION     U02075\n",
      "KEYWORDS    .\n",
      "SOURCE      Chlorarachnion sp. 1\n",
      "  ORGANISM  Chlorarachnion sp. 1\n",
      "            Eukaryotae; mitochondrial eukaryotes; Chlorarachniophyceae;\n",
      "            Chlorarachnion.\n",
      "REFERENCE   1  (bases 1 to 1780)\n",
      "  AUTHORS   McFadden,G.I., Gilson,P.R., Hofmann,C.J., Adcock,G.J. and\n",
      "            Maier,U.G.\n",
      "  TITLE     Evidence that an amoeba acquired a chloroplast by retaining part of\n",
      "            an engulfed eukaryotic alga\n",
      "  JOURNAL   Proc. Natl. Acad. Sci. U.S.A. 91, 3690-3694 (1994)\n",
      "  MEDLINE   94224807\n",
      "REFERENCE   2  (bases 1 to 1780)\n",
      "  AUTHORS   McFadden,G.I.\n",
      "  TITLE     Direct Submission\n",
      "  JOURNAL   Submitted (15-NOV-1993) Geoffrey I. McFadden, School of Botany,\n",
      "            University of Melbourne, Parkville, VIC 3052, Australia\n",
      "COMMENT     [WARNING] On Jan 20, 1999 this sequence was replaced by U02075.1.\n",
      "FEATURES             Location/Qualifiers\n",
      "     source          1..1780\n",
      "                     /organism=\"Chlorarachnion sp. 1\"\n",
      "                     /mol_type=\"rRNA\"\n",
      "                     /strain=\"CCMP 1408\"\n",
      "                     /db_xref=\"taxon:29200\"\n",
      "                     /clone=\"pF58 (Nu), pF59 (Nu)\"\n",
      "     rRNA            1..1780\n",
      "                     /product=\"18S rRNA small subunit\"\n",
      "ORIGIN      \n",
      "        1 ggatcctgcc agtagtcata tgcttgtctc aaagactaag ccatgcatgt ctaagtataa\n",
      "       61 acaactttgt actgtgaaac tgcagatggc tcattaaatc agaaataatt tctttgatgg\n",
      "      121 tgaaaatcta cacggatacc cgtagtaatt ctagagctaa tacgtgcgta aactccattg\n",
      "      181 tgaggtattt attagatccg aaccagcccc ctcggggtat tttggtgaat catgataact\n",
      "      241 gttcgaatcg ccaggctctg ccaggcgata gttcattcaa atttctgccc tatcagctat\n",
      "      301 tgacggtagt gtagtggact accgtggccg taacgggtga cggagaatta gggttcgatt\n",
      "      361 ccggagaggg agcctgagaa acggctacca catccaagga aggcagcagg cgcgcaaatt\n",
      "      421 acccaatccc gacacgggga ggtagtgaca agaaatatcg tgactgtgcc ctttgtggca\n",
      "      481 gagtcttcga aatgagcaat acgtaaatgc ctttgcgagt atccattgga gggcaagtct\n",
      "      541 ggtgccagca gccgcggtaa ttccagctcc aatagcgtat attaatgttg ttgcagttaa\n",
      "      601 aaagctcgta gttggatatc tggcctttgc acggacggcc cgccttcggg ttgagtgctg\n",
      "      661 gaagtgcagg tctatattct ggttggcgtg ctttcccttt attgtggcga gtatcgcgat\n",
      "      721 ccggatcgtt tactttgaag aaattcgagt gttcaaagca ggcttacgcc gtgaagattg\n",
      "      781 cagcatggaa taatgacata ggactatcgt gttctatttt gttggttctg ggaccgtagt\n",
      "      841 aatgattgat agggacagtt gggggtgctg ctattccgcg gncagaggtg aaattctcag\n",
      "      901 attcccggaa gagcaactta tgcgaaagca ttcaccaagg atgtcttctt taatcaagaa\n",
      "      961 cgaaagtagg gggatcgaag acgatcagat accgtcgtag tctctaccat aaactatgcc\n",
      "     1021 gactagggat tggtggacgt tgttttatcc gactccatca gcaccttatg agaaatcaaa\n",
      "     1081 gtctttgggt tccgggggga gtatggtcgc aaggctgaaa cttaaaggaa ttgacggaag\n",
      "     1141 gacaccacca gaagtggaac ttgcggctta atttgactca acacgggaaa actttccagg\n",
      "     1201 tccagacata gtaaggattg acagattgaa gatctttctt gattctatgg gtggtggtgc\n",
      "     1261 atggccgttc ttagttggtg gagtgatttg tctggttaat tccgttaacg aacgagacct\n",
      "     1321 cgacctgcta aataggttca gtatcgatgc gtcgatgctt ggagcttctt agagggacta\n",
      "     1381 tcggatccaa accggtggaa gtgcgaggca ataacaggtc tgtgatgccc ttagatgttc\n",
      "     1441 tgggccgcac gcgtgttaca ctgacgcatt catcaagcgc cacaccttgg ctcgagaggc\n",
      "     1501 ctcggtaatc ttgaaagtcc gtcgtgttag ggatagatta ttgtaattat tagtcttgaa\n",
      "     1561 cgaggaattt ctagtaaacg cgagtcatca actcgcattg attacgtccc tgtcctttat\n",
      "     1621 acacaccgcc cgtcgctact accgattgaa tcatttggtg aggctcacgg actgtcgtgc\n",
      "     1681 atccttcctc gagttggttg tgcttcttgg gaagtgatac aaacctgatg atttagagga\n",
      "     1741 agtaaaagtc gtaacaaggt ttccgtaggt gaacctgcag\n",
      "//\n",
      "\n",
      "LOCUS       HSCD2G5                  807 bp    DNA     linear   PRI 30-SEP-1993\n",
      "DEFINITION  Human CD2 gene exon 5 and 3'-flanking region.\n",
      "ACCESSION   X07874\n",
      "VERSION     X07874.2\n",
      "KEYWORDS    CD2 antigen; glycoprotein; surface antigen; surface glycoprotein.\n",
      "SOURCE      Unknown.\n",
      "  ORGANISM  Unknown.\n",
      "            Unclassified.\n",
      "REFERENCE   1  (bases 1 to 807)\n",
      "  AUTHORS   Lang,G., Wotton,D., Owen,M.J., Sewell,W.A., Brown,M.H., Mason,D.Y.,\n",
      "            Crumpton,M.J. and Kioussis,D.\n",
      "  TITLE     The structure of the human CD2 gene and its expression in\n",
      "            transgenic mice\n",
      "  JOURNAL   EMBO J. 7 (6), 1675-1682 (1988)\n",
      "  MEDLINE   89005055\n",
      "COMMENT     [WARNING] On Feb 18, 1996 this sequence was replaced by X07874.1.\n",
      "            see x07871 - x07874\n",
      "            Data kindly reviewed (12-SEP-1988) by CRUMPTON J.\n",
      "FEATURES             Location/Qualifiers\n",
      "     source          1..807\n",
      "                     /organism=\"unknown\"\n",
      "                     /mol_type=\"unassigned DNA\"\n",
      "     source          1..807\n",
      "                     /clone=\"CD2-cos1, CD2-cos4, CD2-cos7 and CD2-cos10\"\n",
      "                     /organism=\"Homo sapiens\"\n",
      "     precursor_RNA   <1..>339\n",
      "                     /note=\"primary transcript\"\n",
      "     intron          <1..22\n",
      "                     /note=\"Intron IV (ca. 3.9 kb)\"\n",
      "     mRNA            23..>339\n",
      "                     /note=\"Exon 5\"\n",
      "     misc_feature    770..775\n",
      "                     /note=\"pot. polyA signal\"\n",
      "ORIGIN      \n",
      "        1 tattgaggtt ttgttgttgc agatgaggag ctggagacaa gagcccacag agtagctact\n",
      "       61 gaagaaaggg gccggaagcc ccaccaaatt ccagcttcaa cccctcagaa tccagcaact\n",
      "      121 tcccaacatc ctcctccacc acctggtcat cgttcccagg cacctagtca tcgtcccccg\n",
      "      181 cctcctggac accgtgttca gcaccagcct cagaagaggc ctcctgctcc gtcgggcaca\n",
      "      241 caagttcacc agcagaaagg cccgcccctc cccagacctc gagttcagcc aaaacctccc\n",
      "      301 catggggcag cagaaaactc attgtcccct tcctctaatt aaaaaagata gaaactgtct\n",
      "      361 ttttcaataa aaagcactgt ggatttctgc cctcctgatg tgcatatccg tacttccatg\n",
      "      421 aggtgttttc tgtgtgcaga acattgtcac ctcctgaggc tgtgggccac agccacctct\n",
      "      481 gcatcttcga actcagccat gtggtcaaca tctggagttt ttggtctcct cagagagctc\n",
      "      541 catcacacca gtaaggagaa gcaatataag tgtgattgca agaatggtag aggaccgagc\n",
      "      601 acagaaatct tagagatttc ttgtcccctc tcaggtcatg tgtagatgcg ataaatcaag\n",
      "      661 tgattggtgt gcctgggtct cactacaagc agcctatctg cttaagagac tctggagttt\n",
      "      721 cttatgtgcc ctggtggaca cttgcccacc atcctgtgag taaaagtgaa ataaaagctt\n",
      "      781 tgactagacc cgtgtctgct cattgtg\n",
      "//\n",
      "\n",
      "LOCUS       AY158036                 502 bp    DNA     linear   BCT 08-DEC-2002\n",
      "DEFINITION  Gamma proteobacterium UQ1 16S ribosomal RNA gene, partial sequence.\n",
      "ACCESSION   AY158036\n",
      "VERSION     AY158036.1\n",
      "KEYWORDS    .\n",
      "SOURCE      gamma proteobacterium UQ1\n",
      "  ORGANISM  gamma proteobacterium UQ1\n",
      "            Bacteria; Proteobacteria; Gammaproteobacteria.\n",
      "REFERENCE   1  (bases 1 to 502)\n",
      "  AUTHORS   Benito,J.M., Lovrich,G.A., Abate,C.M. and Sineriz,F.\n",
      "  TITLE     Microbial populations from the subantarctic marine ecosystem\n",
      "  JOURNAL   Unpublished\n",
      "REFERENCE   2  (bases 1 to 502)\n",
      "  AUTHORS   Benito,J.M., Lovrich,G.A., Abate,C.M. and Sineriz,F.\n",
      "  TITLE     Direct Submission\n",
      "  JOURNAL   Submitted (02-OCT-2002) Molecular Biology, PROIMI, Av. Belgrano y\n",
      "            Pje. Caseros, S.M. de Tucuman, Tucuman 4000, Argentina\n",
      "FEATURES             Location/Qualifiers\n",
      "     source          1..502\n",
      "                     /organism=\"gamma proteobacterium UQ1\"\n",
      "                     /mol_type=\"genomic DNA\"\n",
      "                     /strain=\"UQ1\"\n",
      "                     /db_xref=\"taxon:215371\"\n",
      "     rRNA            <1..>502\n",
      "                     /product=\"16S ribosomal RNA\"\n",
      "ORIGIN      \n",
      "        1 agagtttgat cctggctcag attgaacgct ggcggcaggc ttaacacatg caagtcgagc\n",
      "       61 ggtaacaggg gagcttgctc ctgctgacga gcggcggacg ggtgagtaac gcgtaggaat\n",
      "      121 ctgcctagta gagggggaca acatgtggaa acgcatgcta ataccgcata cgccctaagg\n",
      "      181 gggaaaggag gggactcttc ggagccttcc gctattagat gagcctgcgt gagattagct\n",
      "      241 agttggtagg gtaaaggcct accaaggcga cgatctctaa ctggtctgag aggatgacca\n",
      "      301 gtcacactgg gactgagaca cggcccagac tcctacggga ggcagcagtg gggaatattg\n",
      "      361 gacaatgggc gcaagcctga tccagccatg ccgcgtgtgt gaagaaggcc ttagggttgt\n",
      "      421 aaagcacttt caggggtgag gaagggtaat ggattaatac ttcattactt tgacgttagc\n",
      "      481 cccagaagaa gcaccggcta ac\n",
      "//\n",
      "\n",
      "Error: F a i l e d  t o  r e t r i e v e  s e q u e n c e :  2 0 9 1 8 \n",
      "\n",
      "\n",
      "\n",
      "LOCUS       CSU02075                1780 bp    rRNA    linear   INV 28-JUN-1994\n",
      "DEFINITION  Chlorarachnion sp. 1 CCMP 1408 clones pF58 and pF59 18S rRNA small\n",
      "            subunit.\n",
      "ACCESSION   U02075\n",
      "VERSION     U02075\n",
      "KEYWORDS    .\n",
      "SOURCE      Chlorarachnion sp. 1\n",
      "  ORGANISM  Chlorarachnion sp. 1\n",
      "            Eukaryotae; mitochondrial eukaryotes; Chlorarachniophyceae;\n",
      "            Chlorarachnion.\n",
      "REFERENCE   1  (bases 1 to 1780)\n",
      "  AUTHORS   McFadden,G.I., Gilson,P.R., Hofmann,C.J., Adcock,G.J. and\n",
      "            Maier,U.G.\n",
      "  TITLE     Evidence that an amoeba acquired a chloroplast by retaining part of\n",
      "            an engulfed eukaryotic alga\n",
      "  JOURNAL   Proc. Natl. Acad. Sci. U.S.A. 91, 3690-3694 (1994)\n",
      "  MEDLINE   94224807\n",
      "REFERENCE   2  (bases 1 to 1780)\n",
      "  AUTHORS   McFadden,G.I.\n",
      "  TITLE     Direct Submission\n",
      "  JOURNAL   Submitted (15-NOV-1993) Geoffrey I. McFadden, School of Botany,\n",
      "            University of Melbourne, Parkville, VIC 3052, Australia\n",
      "COMMENT     [WARNING] On Jan 20, 1999 this sequence was replaced by U02075.1.\n",
      "FEATURES             Location/Qualifiers\n",
      "     source          1..1780\n",
      "                     /organism=\"Chlorarachnion sp. 1\"\n",
      "                     /mol_type=\"rRNA\"\n",
      "                     /strain=\"CCMP 1408\"\n",
      "                     /db_xref=\"taxon:29200\"\n",
      "                     /clone=\"pF58 (Nu), pF59 (Nu)\"\n",
      "     rRNA            1..1780\n",
      "                     /product=\"18S rRNA small subunit\"\n",
      "ORIGIN      \n",
      "        1 ggatcctgcc agtagtcata tgcttgtctc aaagactaag ccatgcatgt ctaagtataa\n",
      "       61 acaactttgt actgtgaaac tgcagatggc tcattaaatc agaaataatt tctttgatgg\n",
      "      121 tgaaaatcta cacggatacc cgtagtaatt ctagagctaa tacgtgcgta aactccattg\n",
      "      181 tgaggtattt attagatccg aaccagcccc ctcggggtat tttggtgaat catgataact\n",
      "      241 gttcgaatcg ccaggctctg ccaggcgata gttcattcaa atttctgccc tatcagctat\n",
      "      301 tgacggtagt gtagtggact accgtggccg taacgggtga cggagaatta gggttcgatt\n",
      "      361 ccggagaggg agcctgagaa acggctacca catccaagga aggcagcagg cgcgcaaatt\n",
      "      421 acccaatccc gacacgggga ggtagtgaca agaaatatcg tgactgtgcc ctttgtggca\n",
      "      481 gagtcttcga aatgagcaat acgtaaatgc ctttgcgagt atccattgga gggcaagtct\n",
      "      541 ggtgccagca gccgcggtaa ttccagctcc aatagcgtat attaatgttg ttgcagttaa\n",
      "      601 aaagctcgta gttggatatc tggcctttgc acggacggcc cgccttcggg ttgagtgctg\n",
      "      661 gaagtgcagg tctatattct ggttggcgtg ctttcccttt attgtggcga gtatcgcgat\n",
      "      721 ccggatcgtt tactttgaag aaattcgagt gttcaaagca ggcttacgcc gtgaagattg\n",
      "      781 cagcatggaa taatgacata ggactatcgt gttctatttt gttggttctg ggaccgtagt\n",
      "      841 aatgattgat agggacagtt gggggtgctg ctattccgcg gncagaggtg aaattctcag\n",
      "      901 attcccggaa gagcaactta tgcgaaagca ttcaccaagg atgtcttctt taatcaagaa\n",
      "      961 cgaaagtagg gggatcgaag acgatcagat accgtcgtag tctctaccat aaactatgcc\n",
      "     1021 gactagggat tggtggacgt tgttttatcc gactccatca gcaccttatg agaaatcaaa\n",
      "     1081 gtctttgggt tccgggggga gtatggtcgc aaggctgaaa cttaaaggaa ttgacggaag\n",
      "     1141 gacaccacca gaagtggaac ttgcggctta atttgactca acacgggaaa actttccagg\n",
      "     1201 tccagacata gtaaggattg acagattgaa gatctttctt gattctatgg gtggtggtgc\n",
      "     1261 atggccgttc ttagttggtg gagtgatttg tctggttaat tccgttaacg aacgagacct\n",
      "     1321 cgacctgcta aataggttca gtatcgatgc gtcgatgctt ggagcttctt agagggacta\n",
      "     1381 tcggatccaa accggtggaa gtgcgaggca ataacaggtc tgtgatgccc ttagatgttc\n",
      "     1441 tgggccgcac gcgtgttaca ctgacgcatt catcaagcgc cacaccttgg ctcgagaggc\n",
      "     1501 ctcggtaatc ttgaaagtcc gtcgtgttag ggatagatta ttgtaattat tagtcttgaa\n",
      "     1561 cgaggaattt ctagtaaacg cgagtcatca actcgcattg attacgtccc tgtcctttat\n",
      "     1621 acacaccgcc cgtcgctact accgattgaa tcatttggtg aggctcacgg actgtcgtgc\n",
      "     1681 atccttcctc gagttggttg tgcttcttgg gaagtgatac aaacctgatg atttagagga\n",
      "     1741 agtaaaagtc gtaacaaggt ttccgtaggt gaacctgcag\n",
      "//\n",
      "\n",
      "LOCUS       HSCD2G5                  807 bp    DNA     linear   PRI 30-SEP-1993\n",
      "DEFINITION  Human CD2 gene exon 5 and 3'-flanking region.\n",
      "ACCESSION   X07874\n",
      "VERSION     X07874.2\n",
      "KEYWORDS    CD2 antigen; glycoprotein; surface antigen; surface glycoprotein.\n",
      "SOURCE      Unknown.\n",
      "  ORGANISM  Unknown.\n",
      "            Unclassified.\n",
      "REFERENCE   1  (bases 1 to 807)\n",
      "  AUTHORS   Lang,G., Wotton,D., Owen,M.J., Sewell,W.A., Brown,M.H., Mason,D.Y.,\n",
      "            Crumpton,M.J. and Kioussis,D.\n",
      "  TITLE     The structure of the human CD2 gene and its expression in\n",
      "            transgenic mice\n",
      "  JOURNAL   EMBO J. 7 (6), 1675-1682 (1988)\n",
      "  MEDLINE   89005055\n",
      "COMMENT     [WARNING] On Feb 18, 1996 this sequence was replaced by X07874.1.\n",
      "            see x07871 - x07874\n",
      "            Data kindly reviewed (12-SEP-1988) by CRUMPTON J.\n",
      "FEATURES             Location/Qualifiers\n",
      "     source          1..807\n",
      "                     /organism=\"unknown\"\n",
      "                     /mol_type=\"unassigned DNA\"\n",
      "     source          1..807\n",
      "                     /clone=\"CD2-cos1, CD2-cos4, CD2-cos7 and CD2-cos10\"\n",
      "                     /organism=\"Homo sapiens\"\n",
      "     precursor_RNA   <1..>339\n",
      "                     /note=\"primary transcript\"\n",
      "     intron          <1..22\n",
      "                     /note=\"Intron IV (ca. 3.9 kb)\"\n",
      "     mRNA            23..>339\n",
      "                     /note=\"Exon 5\"\n",
      "     misc_feature    770..775\n",
      "                     /note=\"pot. polyA signal\"\n",
      "ORIGIN      \n",
      "        1 tattgaggtt ttgttgttgc agatgaggag ctggagacaa gagcccacag agtagctact\n",
      "       61 gaagaaaggg gccggaagcc ccaccaaatt ccagcttcaa cccctcagaa tccagcaact\n",
      "      121 tcccaacatc ctcctccacc acctggtcat cgttcccagg cacctagtca tcgtcccccg\n",
      "      181 cctcctggac accgtgttca gcaccagcct cagaagaggc ctcctgctcc gtcgggcaca\n",
      "      241 caagttcacc agcagaaagg cccgcccctc cccagacctc gagttcagcc aaaacctccc\n",
      "      301 catggggcag cagaaaactc attgtcccct tcctctaatt aaaaaagata gaaactgtct\n",
      "      361 ttttcaataa aaagcactgt ggatttctgc cctcctgatg tgcatatccg tacttccatg\n",
      "      421 aggtgttttc tgtgtgcaga acattgtcac ctcctgaggc tgtgggccac agccacctct\n",
      "      481 gcatcttcga actcagccat gtggtcaaca tctggagttt ttggtctcct cagagagctc\n",
      "      541 catcacacca gtaaggagaa gcaatataag tgtgattgca agaatggtag aggaccgagc\n",
      "      601 acagaaatct tagagatttc ttgtcccctc tcaggtcatg tgtagatgcg ataaatcaag\n",
      "      661 tgattggtgt gcctgggtct cactacaagc agcctatctg cttaagagac tctggagttt\n",
      "      721 cttatgtgcc ctggtggaca cttgcccacc atcctgtgag taaaagtgaa ataaaagctt\n",
      "      781 tgactagacc cgtgtctgct cattgtg\n",
      "//\n",
      "\n",
      "LOCUS       AY158036                 502 bp    DNA     linear   BCT 08-DEC-2002\n",
      "DEFINITION  Gamma proteobacterium UQ1 16S ribosomal RNA gene, partial sequence.\n",
      "ACCESSION   AY158036\n",
      "VERSION     AY158036.1\n",
      "KEYWORDS    .\n",
      "SOURCE      gamma proteobacterium UQ1\n",
      "  ORGANISM  gamma proteobacterium UQ1\n",
      "            Bacteria; Proteobacteria; Gammaproteobacteria.\n",
      "REFERENCE   1  (bases 1 to 502)\n",
      "  AUTHORS   Benito,J.M., Lovrich,G.A., Abate,C.M. and Sineriz,F.\n",
      "  TITLE     Microbial populations from the subantarctic marine ecosystem\n",
      "  JOURNAL   Unpublished\n",
      "REFERENCE   2  (bases 1 to 502)\n",
      "  AUTHORS   Benito,J.M., Lovrich,G.A., Abate,C.M. and Sineriz,F.\n",
      "  TITLE     Direct Submission\n",
      "  JOURNAL   Submitted (02-OCT-2002) Molecular Biology, PROIMI, Av. Belgrano y\n",
      "            Pje. Caseros, S.M. de Tucuman, Tucuman 4000, Argentina\n",
      "FEATURES             Location/Qualifiers\n",
      "     source          1..502\n",
      "                     /organism=\"gamma proteobacterium UQ1\"\n",
      "                     /mol_type=\"genomic DNA\"\n",
      "                     /strain=\"UQ1\"\n",
      "                     /db_xref=\"taxon:215371\"\n",
      "     rRNA            <1..>502\n",
      "                     /product=\"16S ribosomal RNA\"\n",
      "ORIGIN      \n",
      "        1 agagtttgat cctggctcag attgaacgct ggcggcaggc ttaacacatg caagtcgagc\n",
      "       61 ggtaacaggg gagcttgctc ctgctgacga gcggcggacg ggtgagtaac gcgtaggaat\n",
      "      121 ctgcctagta gagggggaca acatgtggaa acgcatgcta ataccgcata cgccctaagg\n",
      "      181 gggaaaggag gggactcttc ggagccttcc gctattagat gagcctgcgt gagattagct\n",
      "      241 agttggtagg gtaaaggcct accaaggcga cgatctctaa ctggtctgag aggatgacca\n",
      "      301 gtcacactgg gactgagaca cggcccagac tcctacggga ggcagcagtg gggaatattg\n",
      "      361 gacaatgggc gcaagcctga tccagccatg ccgcgtgtgt gaagaaggcc ttagggttgt\n",
      "      421 aaagcacttt caggggtgag gaagggtaat ggattaatac ttcattactt tgacgttagc\n",
      "      481 cccagaagaa gcaccggcta ac\n",
      "//\n",
      "\n",
      "Error: F a i l e d  t o  r e t r i e v e  s e q u e n c e :  2 0 9 1 8 \n",
      "\n",
      "\n",
      "LOCUS       BW173609                 778 bp    mRNA    linear   EST 07-JAN-2011\n",
      "DEFINITION  BW173609 Nori Satoh unpublished cDNA library, neural complex Ciona\n",
      "            intestinalis cDNA clone rcinc027k05 3', mRNA sequence.\n",
      "ACCESSION   BW173609\n",
      "VERSION     BW173609.1\n",
      "DBLINK      BioSample: SAMN00171702\n",
      "KEYWORDS    EST.\n",
      "SOURCE      Ciona intestinalis (vase tunicate)\n",
      "  ORGANISM  Ciona intestinalis\n",
      "            Eukaryota; Metazoa; Chordata; Tunicata; Ascidiacea; Phlebobranchia;\n",
      "            Cionidae; Ciona.\n",
      "REFERENCE   1  (bases 1 to 778)\n",
      "  AUTHORS   Satou,Y., Shin-i,T., Kohara,Y. and Satoh,N.\n",
      "  TITLE     Expressed genes in Ciona intestinalis (2002c)\n",
      "  JOURNAL   Unpublished (2002)\n",
      "COMMENT     Contact: Nori Satoh\n",
      "            Department of Zoology\n",
      "            Kyoto University\n",
      "            Sakyo-ku, Kyoto, Kyoto 606-8502, Japan.\n",
      "FEATURES             Location/Qualifiers\n",
      "     source          1..778\n",
      "                     /organism=\"Ciona intestinalis\"\n",
      "                     /mol_type=\"mRNA\"\n",
      "                     /db_xref=\"taxon:7719\"\n",
      "                     /clone=\"rcinc027k05\"\n",
      "                     /tissue_type=\"neural complex\"\n",
      "                     /clone_lib=\"SAMN00171702 Nori Satoh unpublished cDNA\n",
      "                     library, neural complex\"\n",
      "ORIGIN      \n",
      "        1 caacgttaac tgcgaaacgt acacgattat aatggtacca tttaacttat tacggatgga\n",
      "       61 atgcaaatac ggtaagatta ccccagcaat tattgttgga gatgggaaag ctaatacgcg\n",
      "      121 gtagcattta gggtgaagtg tctatacata tgtatcggaa tgggctaaag taaaagcaag\n",
      "      181 cacacagcgg ctggagaagc atacgcttta tacacaagaa accatgcaca caaaatggca\n",
      "      241 agattgggca tgttacaaca tataactgta tataaggtag gctatatgga agctggttca\n",
      "      301 gttcgataat ggttggctaa gttgcccgac aaaacgactg aaggtcataa aagtaaaaca\n",
      "      361 gacaccttaa taattcagta acttatattt tatacaaagt ggttgaacat tagagaaggt\n",
      "      421 gtatgtgcaa gatgcttaca tctctaaact aatgttgccc tgagacagaa cacagtactg\n",
      "      481 tacaatggaa tggaacgtga gagaacttaa gtttatatac acacaaatga ttgaacgcgg\n",
      "      541 aatgcattgg tttggtgcga ggttacaacg catatggaat ggatacgaag acttcaaaga\n",
      "      601 ctggaatgga cagatatagc tcttttcaaa gttcacttat caaatctaca atctacatga\n",
      "      661 cacattgctg ttgtctggca atctcttcat ttgtgccgag tgaaagagga gatattgtcg\n",
      "      721 ccgtgctgct tacgggtttc gactggtggn ttactgacgg gatatcttca atggagtt\n",
      "//\n",
      "\n",
      "\n"
     ]
    }
   ],
   "source": [
    "import requests\n",
    "from bs4 import BeautifulSoup\n",
    "\n",
    "# Making a GET request\n",
    "r = requests.get('https://www.ncbi.nlm.nih.gov/nuccore/{}'.format(genes))\n",
    "# Parsing the HTML\n",
    "locus = \"\"\n",
    "for c in id_content:\n",
    "\tsoup = BeautifulSoup(c, 'html.parser')\n",
    "\n",
    "# Procurar um tag meta com um determinado atributo\n",
    "\n",
    "\tlines = soup.find_all('meta', {'name':\"ncbi_uidlist\"} )\n",
    "\n",
    "\tid = \"\"\n",
    "\turl = \"\"\n",
    "\tfor line in lines:\n",
    "\t\t# print(line)\n",
    "\t\t# if 'name' in line.attrs:\n",
    "\t\t# \tprint(line.attrs['name'])\n",
    "\t\tif 'content' in line.attrs:\n",
    "\t\t\t# print(line.attrs['content'])\t\t\n",
    "\t\t\tid = line.attrs['content']\n",
    "\n",
    "\tif id:\n",
    "\t\turl =\"https://www.ncbi.nlm.nih.gov/sviewer/viewer.fcgi?id={}&db=nuccore&report=genbank&conwithfeat=on&hide-cdd=on&retmode=text&ncbi_phid=CE88F25338A215A1000000000483042A&withmarkup=on&tool=portal&log$=seqview&maxdownloadsize=1000000\".format(id)\n",
    "\n",
    "\tr2 = requests.get(url)\n",
    "\tlocus += r2.content.decode('utf-8')\n",
    "\tprint(locus)\n",
    "\t#utf-8 para converter de bytes para string\n",
    "\t#https://stackoverflow.com/questions/31019854/typeerror-cant-use-a-string-pattern-on-a-bytes-like-object-in-re-findall"
   ]
  },
  {
   "attachments": {},
   "cell_type": "markdown",
   "metadata": {},
   "source": [
    "LINK NCBI"
   ]
  },
  {
   "cell_type": "code",
   "execution_count": 72,
   "metadata": {},
   "outputs": [
    {
     "data": {
      "text/plain": [
       "['https://www.ncbi.nlm.nih.gov/nuccore/U02075',\n",
       " 'https://www.ncbi.nlm.nih.gov/nuccore/X07874',\n",
       " 'https://www.ncbi.nlm.nih.gov/nuccore/AY158036',\n",
       " 'https://www.ncbi.nlm.nih.gov/nuccore/BW173609']"
      ]
     },
     "execution_count": 72,
     "metadata": {},
     "output_type": "execute_result"
    }
   ],
   "source": [
    "import re\n",
    "id_lista = []\n",
    "# print(genes)\n",
    "existe = re.findall(r'ACCESSION\\s+[^\\s]+', locus)\n",
    "#\\s+ um ou mais espaços\n",
    "#[^\\s]+ indica um conjunto de caracteres que se podem repetir uma ou mais vezes\n",
    "\n",
    "if existe:\n",
    "    for c in existe:\n",
    "        m = re.match(r'ACCESSION\\s+([^\\s]+)', c )\n",
    "        if m:\n",
    "            id = m.group(1)\n",
    "            id_lista.append(\"https://www.ncbi.nlm.nih.gov/nuccore/{}\".format( id ) )\n",
    "else:\n",
    "    print( \"Padrão não encontrado\" )\n",
    "id_lista\n",
    "\n"
   ]
  },
  {
   "attachments": {},
   "cell_type": "markdown",
   "metadata": {},
   "source": [
    "ACCESSION"
   ]
  },
  {
   "cell_type": "code",
   "execution_count": 75,
   "metadata": {},
   "outputs": [
    {
     "data": {
      "text/plain": [
       "['U02075 ', 'X07874 ', 'AY158036 ', 'BW173609 ']"
      ]
     },
     "execution_count": 75,
     "metadata": {},
     "output_type": "execute_result"
    }
   ],
   "source": [
    "acc_list = []\n",
    "\n",
    "existe = re.findall(r'ACCESSION\\s+.*?(?=VERSION)', locus, re.DOTALL)\n",
    "#\\s+ um ou mais espaços\n",
    "#\\.* encontra o caractere ponto final zero ou mais vezes\n",
    "#?= something que faz match com VERSION mas não consome estes carateres\n",
    "if existe:\n",
    "    for accession in existe:\n",
    "        m = re.match( r'ACCESSION\\s+(.+)', accession, re.DOTALL )\n",
    "        acc_list.append(re.sub(r'\\s+', ' ', m.group(1) ) )\n",
    "#(.+) agrupar um ou mais caracteres dentro de um grupo\n",
    "#re.sub(r'\\s+', ' ' ...) substitui um ou mais espaços por apenas um espaço\n",
    "acc_list"
   ]
  },
  {
   "attachments": {},
   "cell_type": "markdown",
   "metadata": {},
   "source": [
    "DEFINITION"
   ]
  },
  {
   "cell_type": "code",
   "execution_count": 65,
   "metadata": {},
   "outputs": [
    {
     "data": {
      "text/plain": [
       "['Chlorarachnion sp. 1 CCMP 1408 clones pF58 and pF59 18S rRNA small subunit. ',\n",
       " \"Human CD2 gene exon 5 and 3'-flanking region. \",\n",
       " 'Gamma proteobacterium UQ1 16S ribosomal RNA gene, partial sequence. ',\n",
       " \"BW173609 Nori Satoh unpublished cDNA library, neural complex Ciona intestinalis cDNA clone rcinc027k05 3', mRNA sequence. \"]"
      ]
     },
     "execution_count": 65,
     "metadata": {},
     "output_type": "execute_result"
    }
   ],
   "source": [
    "defi_list = []\n",
    "existe = re.findall(r'DEFINITION\\s+.*?(?=ACCESSION)', locus, re.DOTALL)\n",
    "if existe:\n",
    "    for definition in existe:\n",
    "        m = re.match( r'DEFINITION\\s+(.+)', definition, re.DOTALL )\n",
    "        defi_list.append(re.sub(r'\\s+', ' ', m.group(1) ) )\n",
    "defi_list"
   ]
  },
  {
   "attachments": {},
   "cell_type": "markdown",
   "metadata": {},
   "source": [
    "LOCUS"
   ]
  },
  {
   "cell_type": "code",
   "execution_count": 77,
   "metadata": {},
   "outputs": [
    {
     "data": {
      "text/plain": [
       "['CSU02075 1780 bp rRNA linear INV 28-JUN-1994 ',\n",
       " 'HSCD2G5 807 bp DNA linear PRI 30-SEP-1993 ',\n",
       " 'AY158036 502 bp DNA linear BCT 08-DEC-2002 ',\n",
       " 'BW173609 778 bp mRNA linear EST 07-JAN-2011 ']"
      ]
     },
     "execution_count": 77,
     "metadata": {},
     "output_type": "execute_result"
    }
   ],
   "source": [
    "loc_list = []\n",
    "existe = re.findall(r'LOCUS\\s+.*?(?=DEFINITION)', locus, re.DOTALL)\n",
    "if existe:\n",
    "    for loc in existe:\n",
    "        m = re.match( r'LOCUS\\s+(.+)', loc, re.DOTALL )\n",
    "        loc_list.append(re.sub(r'\\s+', ' ', m.group(1) ) )\n",
    "loc_list"
   ]
  },
  {
   "attachments": {},
   "cell_type": "markdown",
   "metadata": {},
   "source": [
    "LOCUS NAME"
   ]
  },
  {
   "cell_type": "code",
   "execution_count": 78,
   "metadata": {},
   "outputs": [
    {
     "data": {
      "text/plain": [
       "['CSU02075', 'HSCD2G5', 'AY158036', 'BW173609']"
      ]
     },
     "execution_count": 78,
     "metadata": {},
     "output_type": "execute_result"
    }
   ],
   "source": [
    "loc_name_list = []\n",
    "existe = re.findall(r'LOCUS\\s + [^\\s]+', locus, re.DOTALL)\n",
    "if existe:\n",
    "    for id in existe:\n",
    "        m = re.match( r'LOCUS\\s+(.+)', id, re.DOTALL )\n",
    "        loc_name_list.append(re.sub(r'\\s+', ' ', m.group(1) ) )\n",
    "loc_name_list"
   ]
  },
  {
   "attachments": {},
   "cell_type": "markdown",
   "metadata": {},
   "source": [
    "NUMBER OF BP"
   ]
  },
  {
   "cell_type": "code",
   "execution_count": 99,
   "metadata": {},
   "outputs": [
    {
     "name": "stdout",
     "output_type": "stream",
     "text": [
      "['LOCUS       CSU02075                1780 bp    rRNA    linear   INV 28-JUN-1994\\n', 'LOCUS       HSCD2G5                  807 bp    DNA     linear   PRI 30-SEP-1993\\n', 'LOCUS       AY158036                 502 bp    DNA     linear   BCT 08-DEC-2002\\n', 'LOCUS       BW173609                 778 bp    mRNA    linear   EST 07-JAN-2011\\n']\n"
     ]
    },
    {
     "data": {
      "text/plain": [
       "['1780 bp', '807 bp', '502 bp', '778 bp']"
      ]
     },
     "execution_count": 99,
     "metadata": {},
     "output_type": "execute_result"
    }
   ],
   "source": [
    "loc_bp_list = []\n",
    "loc = []\n",
    "\n",
    "existe = re.findall(r'LOCUS\\s+.*?(?=DEFINITION)', locus, re.DOTALL)\n",
    "# print(existe)\n",
    "if existe:\n",
    "    for c in existe:\n",
    "        loc.append(list(filter(None, c.split(' '))))\n",
    "for x in range(len(loc)):\n",
    "    loc_bp_list.append(' '.join(loc[x][2:4])) \n",
    "\n",
    "#cria lista com os valores do locus, e escolhe os 3º e 4º caracteres, que correspondem ao nr de bp\n",
    "loc_bp_list"
   ]
  },
  {
   "attachments": {},
   "cell_type": "markdown",
   "metadata": {},
   "source": [
    "MOLECULE TYPE"
   ]
  },
  {
   "cell_type": "code",
   "execution_count": 100,
   "metadata": {},
   "outputs": [
    {
     "data": {
      "text/plain": [
       "['rRNA linear', 'DNA linear', 'DNA linear', 'mRNA linear']"
      ]
     },
     "execution_count": 100,
     "metadata": {},
     "output_type": "execute_result"
    }
   ],
   "source": [
    "mol_type = []\n",
    "for m in range(len(loc)):\n",
    "    if \"linear\" in loc[m][5]:\n",
    "        mol_type.append(' '.join(loc[m][4:6]))\n",
    "    else:\n",
    "        mol_type.append(' '.join(loc[m][4:5]))\n",
    "#temos que corrigir esta porque as mol types podem ser de uma, duas ou trÊs palavras..\n",
    "mol_type"
   ]
  },
  {
   "attachments": {},
   "cell_type": "markdown",
   "metadata": {},
   "source": [
    "GENBANK DIVISION"
   ]
  },
  {
   "cell_type": "code",
   "execution_count": 101,
   "metadata": {},
   "outputs": [
    {
     "data": {
      "text/plain": [
       "['INV', 'PRI', 'BCT', 'EST']"
      ]
     },
     "execution_count": 101,
     "metadata": {},
     "output_type": "execute_result"
    }
   ],
   "source": [
    "gb_div = []\n",
    "for gb in range(len(loc)):\n",
    "    gb_div.append(' '.join(loc[gb][6:7]))\n",
    "gb_div"
   ]
  },
  {
   "attachments": {},
   "cell_type": "markdown",
   "metadata": {},
   "source": [
    "MODIFICATION DATE"
   ]
  },
  {
   "cell_type": "code",
   "execution_count": 104,
   "metadata": {},
   "outputs": [
    {
     "data": {
      "text/plain": [
       "['28-JUN-1994', '30-SEP-1993', '08-DEC-2002', '07-JAN-2011']"
      ]
     },
     "execution_count": 104,
     "metadata": {},
     "output_type": "execute_result"
    }
   ],
   "source": [
    "mod_date = []\n",
    "for md in range(len(loc)):\n",
    "    mod_date.append(''.join(loc[md][7]).replace(\"\\n\",\"\"))\n",
    "mod_date"
   ]
  },
  {
   "attachments": {},
   "cell_type": "markdown",
   "metadata": {},
   "source": [
    "SOURCE"
   ]
  },
  {
   "cell_type": "code",
   "execution_count": 106,
   "metadata": {},
   "outputs": [
    {
     "name": "stdout",
     "output_type": "stream",
     "text": [
      "['SOURCE      Chlorarachnion sp. 1\\n  ', 'SOURCE      Unknown.\\n  ', 'SOURCE      gamma proteobacterium UQ1\\n  ', 'SOURCE      Ciona intestinalis (vase tunicate)\\n  ']\n"
     ]
    },
    {
     "data": {
      "text/plain": [
       "['Chlorarachnion sp. 1 ',\n",
       " 'Unknown. ',\n",
       " 'gamma proteobacterium UQ1 ',\n",
       " 'Ciona intestinalis (vase tunicate) ']"
      ]
     },
     "execution_count": 106,
     "metadata": {},
     "output_type": "execute_result"
    }
   ],
   "source": [
    "source_list = []\n",
    "existe = re.findall(r'SOURCE\\s+.*?(?=ORGANISM)', locus, re.DOTALL)\n",
    "# print(existe)\n",
    "if existe:\n",
    "    for source in existe:\n",
    "        m = re.match( r'SOURCE\\s+(.+)', source, re.DOTALL )\n",
    "        source_list.append(re.sub(r'\\s+', ' ', m.group(1) ) )\n",
    "source_list"
   ]
  },
  {
   "attachments": {},
   "cell_type": "markdown",
   "metadata": {},
   "source": [
    "ORGANISM"
   ]
  },
  {
   "cell_type": "code",
   "execution_count": 108,
   "metadata": {},
   "outputs": [
    {
     "data": {
      "text/plain": [
       "['Chlorarachnion sp. 1',\n",
       " 'Unknown.',\n",
       " 'gamma proteobacterium UQ1',\n",
       " 'Ciona intestinalis']"
      ]
     },
     "execution_count": 108,
     "metadata": {},
     "output_type": "execute_result"
    }
   ],
   "source": [
    "org_list = []\n",
    "existe = re.findall(r'ORGANISM\\s+.*?(?=\\n)', locus, re.DOTALL)\n",
    "if existe:\n",
    "    for org in existe:\n",
    "        m = re.match( r'ORGANISM\\s+(.+)', org, re.DOTALL )\n",
    "        org_list.append(re.sub(r'\\s+', ' ', m.group(1) ) )\n",
    "org_list"
   ]
  },
  {
   "attachments": {},
   "cell_type": "markdown",
   "metadata": {},
   "source": [
    "FEATURES"
   ]
  },
  {
   "cell_type": "code",
   "execution_count": null,
   "metadata": {},
   "outputs": [],
   "source": [
    "misc = []\n",
    "existe = re.findall(r'FEATURES\\s+.*?(?=ORIGIN)', locus, re.DOTALL)\n",
    "#DOTALL ignora as linhas, pois as features ocupam várias linhas\n",
    "if existe:\n",
    "    for feat in existe:\n",
    "        m = re.match( r'FEATURES\\s+(.+)',feat, re.DOTALL )\n",
    "        misc.append(re.sub(r'/',  ' ', m.group(1) ) )\n",
    "    for c in misc:\n",
    "        print(c, \"\\n\")"
   ]
  },
  {
   "attachments": {},
   "cell_type": "markdown",
   "metadata": {},
   "source": [
    "FEATURES - SOURCE"
   ]
  },
  {
   "cell_type": "code",
   "execution_count": null,
   "metadata": {},
   "outputs": [],
   "source": [
    "\n",
    "existe = re.findall(r'source\\s+[1-9\\.]*', locus, re.DOTALL)\n",
    "if existe:\n",
    "    for fsource in existe:\n",
    "        print( re.sub(r'source\\s+', ' ', fsource) )\n"
   ]
  },
  {
   "attachments": {},
   "cell_type": "markdown",
   "metadata": {},
   "source": [
    "FEATURES - EXONS"
   ]
  },
  {
   "cell_type": "code",
   "execution_count": null,
   "metadata": {},
   "outputs": [],
   "source": [
    "existe = re.findall(r'exon\\s+[1-9\\>\\.]*', locus, re.DOTALL)\n",
    "if existe:\n",
    "    for fexons in existe:\n",
    "        print( re.sub(r'exon\\s+', ' ', fexons) )"
   ]
  },
  {
   "attachments": {},
   "cell_type": "markdown",
   "metadata": {},
   "source": [
    "FEATURES - INTRON"
   ]
  },
  {
   "cell_type": "code",
   "execution_count": null,
   "metadata": {},
   "outputs": [],
   "source": [
    "existe = re.findall(r'intron\\s+[1-9\\>\\.]*', locus, re.DOTALL)\n",
    "if existe:\n",
    "    for fintrons in existe:\n",
    "        print( re.sub(r'intron\\s+', ' ', fintrons) )"
   ]
  },
  {
   "attachments": {},
   "cell_type": "markdown",
   "metadata": {},
   "source": [
    "CDS - JOIN"
   ]
  },
  {
   "cell_type": "code",
   "execution_count": null,
   "metadata": {},
   "outputs": [],
   "source": [
    "existe = re.findall(r'CDS\\s+?(join)[1-9\\.\\,\\(\\)]*', locus, re.DOTALL)\n",
    "#(join) procura a palavra join 1x\n",
    "#procura nrs de 1-9, ponto, virgula e parentises zero ou mais vezes\n",
    "print(existe[0])\n",
    "if existe:\n",
    "    for cds in existe:\n",
    "        print( re.sub(r'CDS\\s+', ' ', cds) )"
   ]
  },
  {
   "attachments": {},
   "cell_type": "markdown",
   "metadata": {},
   "source": [
    "SEQUENCE/ORIGIN"
   ]
  },
  {
   "cell_type": "code",
   "execution_count": 109,
   "metadata": {},
   "outputs": [
    {
     "data": {
      "text/plain": [
       "['ggatcctgccagtagtcatatgcttgtctcaaagactaagccatgcatgtctaagtataaacaactttgtactgtgaaactgcagatggctcattaaatcagaaataatttctttgatggtgaaaatctacacggatacccgtagtaattctagagctaatacgtgcgtaaactccattgtgaggtatttattagatccgaaccagccccctcggggtattttggtgaatcatgataactgttcgaatcgccaggctctgccaggcgatagttcattcaaatttctgccctatcagctattgacggtagtgtagtggactaccgtggccgtaacgggtgacggagaattagggttcgattccggagagggagcctgagaaacggctaccacatccaaggaaggcagcaggcgcgcaaattacccaatcccgacacggggaggtagtgacaagaaatatcgtgactgtgccctttgtggcagagtcttcgaaatgagcaatacgtaaatgcctttgcgagtatccattggagggcaagtctggtgccagcagccgcggtaattccagctccaatagcgtatattaatgttgttgcagttaaaaagctcgtagttggatatctggcctttgcacggacggcccgccttcgggttgagtgctggaagtgcaggtctatattctggttggcgtgctttccctttattgtggcgagtatcgcgatccggatcgtttactttgaagaaattcgagtgttcaaagcaggcttacgccgtgaagattgcagcatggaataatgacataggactatcgtgttctattttgttggttctgggaccgtagtaatgattgatagggacagttgggggtgctgctattccgcggncagaggtgaaattctcagattcccggaagagcaacttatgcgaaagcattcaccaaggatgtcttctttaatcaagaacgaaagtagggggatcgaagacgatcagataccgtcgtagtctctaccataaactatgccgactagggattggtggacgttgttttatccgactccatcagcaccttatgagaaatcaaagtctttgggttccggggggagtatggtcgcaaggctgaaacttaaaggaattgacggaaggacaccaccagaagtggaacttgcggcttaatttgactcaacacgggaaaactttccaggtccagacatagtaaggattgacagattgaagatctttcttgattctatgggtggtggtgcatggccgttcttagttggtggagtgatttgtctggttaattccgttaacgaacgagacctcgacctgctaaataggttcagtatcgatgcgtcgatgcttggagcttcttagagggactatcggatccaaaccggtggaagtgcgaggcaataacaggtctgtgatgcccttagatgttctgggccgcacgcgtgttacactgacgcattcatcaagcgccacaccttggctcgagaggcctcggtaatcttgaaagtccgtcgtgttagggatagattattgtaattattagtcttgaacgaggaatttctagtaaacgcgagtcatcaactcgcattgattacgtccctgtcctttatacacaccgcccgtcgctactaccgattgaatcatttggtgaggctcacggactgtcgtgcatccttcctcgagttggttgtgcttcttgggaagtgatacaaacctgatgatttagaggaagtaaaagtcgtaacaaggtttccgtaggtgaacctgcag',\n",
       " 'tattgaggttttgttgttgcagatgaggagctggagacaagagcccacagagtagctactgaagaaaggggccggaagccccaccaaattccagcttcaacccctcagaatccagcaacttcccaacatcctcctccaccacctggtcatcgttcccaggcacctagtcatcgtcccccgcctcctggacaccgtgttcagcaccagcctcagaagaggcctcctgctccgtcgggcacacaagttcaccagcagaaaggcccgcccctccccagacctcgagttcagccaaaacctccccatggggcagcagaaaactcattgtccccttcctctaattaaaaaagatagaaactgtctttttcaataaaaagcactgtggatttctgccctcctgatgtgcatatccgtacttccatgaggtgttttctgtgtgcagaacattgtcacctcctgaggctgtgggccacagccacctctgcatcttcgaactcagccatgtggtcaacatctggagtttttggtctcctcagagagctccatcacaccagtaaggagaagcaatataagtgtgattgcaagaatggtagaggaccgagcacagaaatcttagagatttcttgtcccctctcaggtcatgtgtagatgcgataaatcaagtgattggtgtgcctgggtctcactacaagcagcctatctgcttaagagactctggagtttcttatgtgccctggtggacacttgcccaccatcctgtgagtaaaagtgaaataaaagctttgactagacccgtgtctgctcattgtg',\n",
       " 'agagtttgatcctggctcagattgaacgctggcggcaggcttaacacatgcaagtcgagcggtaacaggggagcttgctcctgctgacgagcggcggacgggtgagtaacgcgtaggaatctgcctagtagagggggacaacatgtggaaacgcatgctaataccgcatacgccctaagggggaaaggaggggactcttcggagccttccgctattagatgagcctgcgtgagattagctagttggtagggtaaaggcctaccaaggcgacgatctctaactggtctgagaggatgaccagtcacactgggactgagacacggcccagactcctacgggaggcagcagtggggaatattggacaatgggcgcaagcctgatccagccatgccgcgtgtgtgaagaaggccttagggttgtaaagcactttcaggggtgaggaagggtaatggattaatacttcattactttgacgttagccccagaagaagcaccggctaac',\n",
       " 'caacgttaactgcgaaacgtacacgattataatggtaccatttaacttattacggatggaatgcaaatacggtaagattaccccagcaattattgttggagatgggaaagctaatacgcggtagcatttagggtgaagtgtctatacatatgtatcggaatgggctaaagtaaaagcaagcacacagcggctggagaagcatacgctttatacacaagaaaccatgcacacaaaatggcaagattgggcatgttacaacatataactgtatataaggtaggctatatggaagctggttcagttcgataatggttggctaagttgcccgacaaaacgactgaaggtcataaaagtaaaacagacaccttaataattcagtaacttatattttatacaaagtggttgaacattagagaaggtgtatgtgcaagatgcttacatctctaaactaatgttgccctgagacagaacacagtactgtacaatggaatggaacgtgagagaacttaagtttatatacacacaaatgattgaacgcggaatgcattggtttggtgcgaggttacaacgcatatggaatggatacgaagacttcaaagactggaatggacagatatagctcttttcaaagttcacttatcaaatctacaatctacatgacacattgctgttgtctggcaatctcttcatttgtgccgagtgaaagaggagatattgtcgccgtgctgcttacgggtttcgactggtggnttactgacgggatatcttcaatggagtt']"
      ]
     },
     "execution_count": 109,
     "metadata": {},
     "output_type": "execute_result"
    }
   ],
   "source": [
    "seq_origin = []\n",
    "existe = re.findall(r'ORIGIN\\s+.*?(?=//)', locus, re.DOTALL)\n",
    "if existe:\n",
    "    for nuc in existe:\n",
    "        m = re.match( r'ORIGIN\\s+(.+)', nuc, re.DOTALL)\n",
    "        a = re.sub(r'\\s+', '', m.group(1) ) \n",
    "        num = re.sub(r'\\d+','', a)\n",
    "        seq_origin.append(num)\n",
    "seq_origin"
   ]
  },
  {
   "cell_type": "code",
   "execution_count": 140,
   "metadata": {},
   "outputs": [
    {
     "data": {
      "text/plain": [
       "[[457, 366, 484, 472],\n",
       " [204, 228, 196, 179],\n",
       " [130, 110, 99, 163],\n",
       " [259, 130, 209, 179]]"
      ]
     },
     "execution_count": 140,
     "metadata": {},
     "output_type": "execute_result"
    }
   ],
   "source": [
    "seq_count = []\n",
    "for seq in seq_origin:\n",
    "    #contagem de nucleotidos\n",
    "    A= []\n",
    "    C= []\n",
    "    T= []\n",
    "    G= []\n",
    "    for n in seq:\n",
    "        if n == 'a':\n",
    "            A.append('a')\n",
    "        if n == 'c':\n",
    "            C.append('c')\n",
    "        if n == 't':\n",
    "            T.append('t')\n",
    "        if n == 'g':\n",
    "            G.append('g')\n",
    "        \n",
    "    a = len(A)\n",
    "    c = len(C)\n",
    "    t = len(T)\n",
    "    g = len(G)\n",
    "    seq_count.append([a,c,t,g])\n",
    "    #fazer append de um array\n",
    "seq_count\n"
   ]
  },
  {
   "attachments": {},
   "cell_type": "markdown",
   "metadata": {},
   "source": [
    "JOURNAL"
   ]
  },
  {
   "cell_type": "code",
   "execution_count": 138,
   "metadata": {},
   "outputs": [
    {
     "data": {
      "text/plain": [
       "['Proc. Natl. Acad. Sci. U.S.A. 91, 3690-3694 (1994) MEDLINE 94224807 ',\n",
       " 'Submitted (15-NOV-1993) Geoffrey I. McFadden, School of Botany, University of Melbourne, Parkville, VIC 3052, Australia COMMENT [WARNING] On Jan 20, 1999 this sequence was replaced by U02075.1. ',\n",
       " 'EMBO J. 7 (6), 1675-1682 (1988) MEDLINE 89005055 COMMENT [WARNING] On Feb 18, 1996 this sequence was replaced by X07874.1. see x07871 - x07874 Data kindly reviewed (12-SEP-1988) by CRUMPTON J. ',\n",
       " 'Unpublished ',\n",
       " 'Submitted (02-OCT-2002) Molecular Biology, PROIMI, Av. Belgrano y Pje. Caseros, S.M. de Tucuman, Tucuman 4000, Argentina ',\n",
       " 'Unpublished (2002) COMMENT Contact: Nori Satoh Department of Zoology Kyoto University Sakyo-ku, Kyoto, Kyoto 606-8502, Japan. ']"
      ]
     },
     "execution_count": 138,
     "metadata": {},
     "output_type": "execute_result"
    }
   ],
   "source": [
    "journ_list = []\n",
    "existe = re.findall(r'JOURNAL\\s+.*?(?=PUBMED|REFERENCE|FEATURES)', locus, re.DOTALL)\n",
    "if existe:\n",
    "    for journal in existe:\n",
    "        m = re.match( r'JOURNAL\\s+(.+)', journal, re.DOTALL )\n",
    "        journ_list.append(re.sub(r'\\s+', ' ', m.group(1) ) )\n",
    "journ_list\n",
    "#| dá-nos operador ou\n"
   ]
  },
  {
   "attachments": {},
   "cell_type": "markdown",
   "metadata": {},
   "source": [
    "AUTHORS"
   ]
  },
  {
   "cell_type": "code",
   "execution_count": 141,
   "metadata": {},
   "outputs": [
    {
     "data": {
      "text/plain": [
       "['McFadden,G.I., Gilson,P.R., Hofmann,C.J., Adcock,G.J. and Maier,U.G. ',\n",
       " 'McFadden,G.I. ',\n",
       " 'Lang,G., Wotton,D., Owen,M.J., Sewell,W.A., Brown,M.H., Mason,D.Y., Crumpton,M.J. and Kioussis,D. ',\n",
       " 'Benito,J.M., Lovrich,G.A., Abate,C.M. and Sineriz,F. ',\n",
       " 'Benito,J.M., Lovrich,G.A., Abate,C.M. and Sineriz,F. ',\n",
       " 'Satou,Y., Shin-i,T., Kohara,Y. and Satoh,N. ']"
      ]
     },
     "execution_count": 141,
     "metadata": {},
     "output_type": "execute_result"
    }
   ],
   "source": [
    "authors_list = []\n",
    "existe = re.findall(r'AUTHORS\\s+.*?(?=TITLE)', locus, re.DOTALL)\n",
    "if existe:\n",
    "    for auth in existe:\n",
    "        m = re.match( r'AUTHORS\\s+(.+)', auth, re.DOTALL )\n",
    "        authors_list.append(re.sub(r'\\s+', ' ', m.group(1) ) )\n",
    "authors_list"
   ]
  },
  {
   "attachments": {},
   "cell_type": "markdown",
   "metadata": {},
   "source": [
    "TITLE"
   ]
  },
  {
   "cell_type": "code",
   "execution_count": 142,
   "metadata": {},
   "outputs": [
    {
     "data": {
      "text/plain": [
       "['Evidence that an amoeba acquired a chloroplast by retaining part of an engulfed eukaryotic alga ',\n",
       " 'Direct Submission ',\n",
       " 'The structure of the human CD2 gene and its expression in transgenic mice ',\n",
       " 'Microbial populations from the subantarctic marine ecosystem ',\n",
       " 'Direct Submission ',\n",
       " 'Expressed genes in Ciona intestinalis (2002c) ']"
      ]
     },
     "execution_count": 142,
     "metadata": {},
     "output_type": "execute_result"
    }
   ],
   "source": [
    "titles = []\n",
    "existe = re.findall(r'TITLE\\s+.*?(?=JOURNAL)', locus, re.DOTALL)\n",
    "if existe:\n",
    "    for title in existe:\n",
    "        m = re.match( r'TITLE\\s+(.+)', title, re.DOTALL )\n",
    "        titles.append(re.sub(r'\\s+', ' ', m.group(1) ) )\n",
    "titles"
   ]
  },
  {
   "attachments": {},
   "cell_type": "markdown",
   "metadata": {},
   "source": [
    "PUBMED"
   ]
  },
  {
   "cell_type": "code",
   "execution_count": null,
   "metadata": {},
   "outputs": [],
   "source": [
    "existe = re.findall(r'PUBMED\\s+.*?(?=REFERENCE)', locus, re.DOTALL)\n",
    "if existe:\n",
    "    for pubm in existe:\n",
    "        m = re.match( r'PUBMED\\s+(.+)', pubm, re.DOTALL )\n",
    "        print( re.sub(r'\\s+', ' ', m.group(1) ) )"
   ]
  },
  {
   "attachments": {},
   "cell_type": "markdown",
   "metadata": {},
   "source": [
    "AFFILIATION"
   ]
  },
  {
   "cell_type": "code",
   "execution_count": null,
   "metadata": {},
   "outputs": [],
   "source": [
    "import requests\n",
    "r = requests.get('https://pubmed.ncbi.nlm.nih.gov/2549509')\n",
    "pub = r.content.decode('utf-8')\n",
    "print(pub)"
   ]
  },
  {
   "cell_type": "code",
   "execution_count": null,
   "metadata": {},
   "outputs": [],
   "source": [
    "import re\n",
    "existe = re.search(r'affiliation-1\\s*.*\\.', pub)\n",
    "#\\s* zero ou mais espaços\n",
    "#.* zero ou mais caracteres\n",
    "#\\. caractere ponto final -> procura affiliation até encontrar ponto final\n",
    "\n",
    "if existe:\n",
    "    m = re.findall(r'>\\s.*', existe[0] )\n",
    "    #o findall retorna uma lista, por isso temos que selecionar m[0] para fazer o replace\n",
    "    m = m[0].replace(\"> \",'')\n",
    "    print(m)\n",
    "\n",
    "else:\n",
    "    print( \"Padrão não encontrado\" )"
   ]
  },
  {
   "attachments": {},
   "cell_type": "markdown",
   "metadata": {},
   "source": [
    "AUTHOR NAME"
   ]
  },
  {
   "cell_type": "code",
   "execution_count": null,
   "metadata": {},
   "outputs": [],
   "source": [
    "existe = re.search(\"citation_authors.*;\", pub)\n",
    "if existe:\n",
    "    m = re.findall(r'=\".*', existe[0] )\n",
    "    #procura =\" seguido de um ou mais caracteres\n",
    "    m = m[0].replace('=\\\"','')\n",
    "    #\\\" para indicar que queremos os caractere \" (e não abrir aspas)\n",
    "    print(m)"
   ]
  }
 ],
 "metadata": {
  "kernelspec": {
   "display_name": "Python 3",
   "language": "python",
   "name": "python3"
  },
  "language_info": {
   "codemirror_mode": {
    "name": "ipython",
    "version": 3
   },
   "file_extension": ".py",
   "mimetype": "text/x-python",
   "name": "python",
   "nbconvert_exporter": "python",
   "pygments_lexer": "ipython3",
   "version": "3.10.5"
  },
  "orig_nbformat": 4,
  "vscode": {
   "interpreter": {
    "hash": "fb4569285eef3a3450cb62085a5b1e0da4bce0af555edc33dcf29baf3acc1368"
   }
  }
 },
 "nbformat": 4,
 "nbformat_minor": 2
}
